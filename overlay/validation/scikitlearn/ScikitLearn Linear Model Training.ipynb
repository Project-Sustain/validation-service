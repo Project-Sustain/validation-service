{
 "cells": [
  {
   "cell_type": "code",
   "execution_count": 1,
   "id": "9762dd63",
   "metadata": {},
   "outputs": [],
   "source": [
    "from time import time\n",
    "import pandas as pd\n",
    "import pymongo\n",
    "import numpy as np\n",
    "import os\n",
    "from sklearn.model_selection import cross_val_score, train_test_split, KFold\n",
    "from sklearn.metrics import mean_squared_error, r2_score\n",
    "from sklearn import ensemble\n",
    "import random\n",
    "from sklearn import linear_model\n",
    "from sklearn.preprocessing import StandardScaler\n",
    "from sklearn.svm import SVR\n",
    "import pickle"
   ]
  },
  {
   "cell_type": "code",
   "execution_count": 6,
   "id": "10217803",
   "metadata": {},
   "outputs": [],
   "source": [
    "REGRESSION_FEATURES_FIELDS = [\n",
    "    \"PRESSURE_REDUCED_TO_MSL_PASCAL\",\n",
    "    \"VISIBILITY_AT_SURFACE_METERS\",\n",
    "    \"VISIBILITY_AT_CLOUD_TOP_METERS\",\n",
    "    \"WIND_GUST_SPEED_AT_SURFACE_METERS_PER_SEC\",\n",
    "    \"PRESSURE_AT_SURFACE_PASCAL\",\n",
    "    \"TEMPERATURE_AT_SURFACE_KELVIN\",\n",
    "    \"DEWPOINT_TEMPERATURE_2_METERS_ABOVE_SURFACE_KELVIN\",\n",
    "    \"RELATIVE_HUMIDITY_2_METERS_ABOVE_SURFACE_PERCENT\",\n",
    "    \"ALBEDO_PERCENT\",\n",
    "    \"TOTAL_CLOUD_COVER_PERCENT\"\n",
    "]\n",
    "\n",
    "REGRESSION_LABEL_FIELD = [\n",
    "    \"SOIL_TEMPERATURE_0_TO_01_M_BELOW_SURFACE_KELVIN\"\n",
    "]\n",
    "\n",
    "\n",
    "path_to_noaa_csv: str = \"~/noaa_nam_normalized.csv\"\n",
    "all_df: pd.DataFrame = pd.read_csv(path_to_noaa_csv, header=0)"
   ]
  },
  {
   "cell_type": "code",
   "execution_count": 7,
   "id": "794c0167",
   "metadata": {},
   "outputs": [],
   "source": [
    "X_df: pd.DataFrame = all_df[REGRESSION_FEATURES_FIELDS]\n",
    "y_df: pd.DataFrame = all_df[REGRESSION_LABEL_FIELD]"
   ]
  },
  {
   "cell_type": "code",
   "execution_count": 9,
   "id": "6d7ad5e3",
   "metadata": {},
   "outputs": [],
   "source": [
    "# save X_df and y_df to disk\n",
    "# pickle.dump(X_df, open('pickles/X_df.pkl', 'wb'))\n",
    "# pickle.dump(y_df, open('pickles/y_df.pkl', 'wb'))"
   ]
  },
  {
   "cell_type": "code",
   "execution_count": 10,
   "id": "33a602d0",
   "metadata": {},
   "outputs": [
    {
     "name": "stdout",
     "output_type": "stream",
     "text": [
      "X_train: (30973087, 10)\n",
      "y_train: (30973087, 1)\n",
      "X_test: (10324363, 10)\n",
      "y_test: (10324363, 1)\n",
      "INFO: Train and Test sets created\n"
     ]
    }
   ],
   "source": [
    "X_train, X_test, y_train, y_test = train_test_split(X_df, y_df, test_size=0.25)\n",
    "\n",
    "print(f'X_train: {X_train.shape}')\n",
    "print(f'y_train: {y_train.shape}')\n",
    "print(f'X_test: {X_test.shape}')\n",
    "print(f'y_test: {y_test.shape}')\n",
    "\n",
    "print('INFO: Train and Test sets created')"
   ]
  },
  {
   "cell_type": "code",
   "execution_count": null,
   "id": "90f66fef",
   "metadata": {},
   "outputs": [
    {
     "name": "stderr",
     "output_type": "stream",
     "text": [
      "/s/parsons/b/others/sustain/.local/lib/python3.8/site-packages/sklearn/ensemble/_gb.py:494: DataConversionWarning: A column-vector y was passed when a 1d array was expected. Please change the shape of y to (n_samples, ), for example using ravel().\n",
      "  y = column_or_1d(y, warn=True)\n"
     ]
    }
   ],
   "source": [
    "MODEL = 'gb'\n",
    "\n",
    "if MODEL == 'lr':\n",
    "    lr = linear_model.LinearRegression()\n",
    "    print(f\"Training with original features\")\n",
    "    lr.fit(X_train, y_train)\n",
    "    print(\"Original test score:\", lr.score(X_test, y_test))\n",
    "\n",
    "    # save model to file\n",
    "    pickle.dump(lr, open('saved_models/linear_regression/lr2.pkl', 'wb'))\n",
    "elif MODEL == 'gb':\n",
    "    gb = ensemble.GradientBoostingRegressor(random_state=0)\n",
    "    # gb.fit(X_train, pd.Series.ravel(y_train))\n",
    "    gb.fit(X_train, y_train)\n",
    "    print(gb.score(X_test, y_test))\n",
    "    pickle.dump(gb, open('saved_models/gradient_boosting/gb2.pkl', 'wb'))\n",
    "elif MODEL == 'svr':\n",
    "    svr = SVR()\n",
    "    svr.fit(X_train, y_train)\n",
    "    print(svr.score(X_test, y_test))\n",
    "    pickle.dump(svr, open('saved_models/support_vector_regression/svr2.pkl', 'wb'))\n",
    "else:\n",
    "    print(f'Model type {MODEL} not implemented')"
   ]
  }
 ],
 "metadata": {
  "kernelspec": {
   "display_name": "Python 3 (ipykernel)",
   "language": "python",
   "name": "python3"
  },
  "language_info": {
   "codemirror_mode": {
    "name": "ipython",
    "version": 3
   },
   "file_extension": ".py",
   "mimetype": "text/x-python",
   "name": "python",
   "nbconvert_exporter": "python",
   "pygments_lexer": "ipython3",
   "version": "3.8.8"
  }
 },
 "nbformat": 4,
 "nbformat_minor": 5
}