{
 "cells": [
  {
   "cell_type": "code",
   "execution_count": 5,
   "metadata": {
    "collapsed": true
   },
   "outputs": [],
   "source": [
    "import pymongo\n",
    "import pandas as pd\n",
    "import os\n",
    "import sys\n",
    "import json\n",
    "import pickle\n",
    "from sklearn.preprocessing import MinMaxScaler, binarize\n",
    "from sklearn import metrics"
   ]
  },
  {
   "cell_type": "code",
   "execution_count": 6,
   "outputs": [],
   "source": [
    "MONGO_USER = \"root\"\n",
    "MONGO_PASS = \"rootPass\"\n",
    "MONGO_HOST = \"lattice-101.cs.colostate.edu\"\n",
    "MONGO_PORT = 27018\n",
    "MONGO_URL = f\"mongodb://{MONGO_USER}:{MONGO_PASS}@{MONGO_HOST}:{MONGO_PORT}\"\n",
    "DB_NAME = \"sustaindb\"\n",
    "\n",
    "FEATURE_FIELDS = [\n",
    "    \"PRESSURE_REDUCED_TO_MSL_PASCAL\",\n",
    "    \"VISIBILITY_AT_SURFACE_METERS\",\n",
    "    \"VISIBILITY_AT_CLOUD_TOP_METERS\",\n",
    "    \"WIND_GUST_SPEED_AT_SURFACE_METERS_PER_SEC\",\n",
    "    \"PRESSURE_AT_SURFACE_PASCAL\",\n",
    "]\n",
    "\n",
    "# LABEL_FIELD = \"CATEGORICAL_SNOW_SURFACE_BINARY\"\n",
    "LABEL_FIELD = \"CATEGORICAL_RAIN_SURFACE_BINARY\""
   ],
   "metadata": {
    "collapsed": false
   }
  },
  {
   "cell_type": "code",
   "execution_count": 7,
   "outputs": [],
   "source": [
    "db_connection = pymongo.MongoClient(MONGO_URL)\n",
    "db = db_connection[DB_NAME]\n",
    "noaa = db['noaa_nam']"
   ],
   "metadata": {
    "collapsed": false
   }
  },
  {
   "cell_type": "code",
   "execution_count": 8,
   "outputs": [
    {
     "name": "stdout",
     "output_type": "stream",
     "text": [
      "No. of GISJOINs: 3088\n"
     ]
    }
   ],
   "source": [
    "gis_joins = noaa.distinct('GISJOIN')\n",
    "print(f'No. of GISJOINs: {len(gis_joins)}')\n",
    "with open('./gis_joins.json', 'w') as out_file:\n",
    "    out_file.write(str(gis_joins))"
   ],
   "metadata": {
    "collapsed": false
   }
  },
  {
   "cell_type": "code",
   "execution_count": 8,
   "outputs": [],
   "source": [],
   "metadata": {
    "collapsed": false
   }
  }
 ],
 "metadata": {
  "kernelspec": {
   "display_name": "Python 3",
   "language": "python",
   "name": "python3"
  },
  "language_info": {
   "codemirror_mode": {
    "name": "ipython",
    "version": 2
   },
   "file_extension": ".py",
   "mimetype": "text/x-python",
   "name": "python",
   "nbconvert_exporter": "python",
   "pygments_lexer": "ipython2",
   "version": "2.7.6"
  }
 },
 "nbformat": 4,
 "nbformat_minor": 0
}
