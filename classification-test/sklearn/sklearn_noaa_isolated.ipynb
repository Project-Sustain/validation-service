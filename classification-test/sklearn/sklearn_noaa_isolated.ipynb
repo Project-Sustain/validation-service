{
 "cells": [
  {
   "cell_type": "code",
   "execution_count": 5,
   "metadata": {
    "collapsed": true
   },
   "outputs": [],
   "source": [
    "import pymongo\n",
    "import pandas as pd\n",
    "import os\n",
    "import sys\n",
    "import json\n",
    "import pickle\n",
    "from sklearn.preprocessing import MinMaxScaler, binarize\n",
    "from sklearn import metrics"
   ]
  },
  {
   "cell_type": "code",
   "execution_count": 6,
   "outputs": [],
   "source": [
    "MONGO_USER = \"root\"\n",
    "MONGO_PASS = \"rootPass\"\n",
    "MONGO_HOST = \"lattice-101.cs.colostate.edu\"\n",
    "MONGO_PORT = 27018\n",
    "MONGO_URL = f\"mongodb://{MONGO_USER}:{MONGO_PASS}@{MONGO_HOST}:{MONGO_PORT}\"\n",
    "DB_NAME = \"sustaindb\"\n",
    "\n",
    "FEATURE_FIELDS = [\n",
    "    \"PRESSURE_REDUCED_TO_MSL_PASCAL\",\n",
    "    \"VISIBILITY_AT_SURFACE_METERS\",\n",
    "    \"VISIBILITY_AT_CLOUD_TOP_METERS\",\n",
    "    \"WIND_GUST_SPEED_AT_SURFACE_METERS_PER_SEC\",\n",
    "    \"PRESSURE_AT_SURFACE_PASCAL\",\n",
    "]\n",
    "\n",
    "# LABEL_FIELD = \"CATEGORICAL_SNOW_SURFACE_BINARY\"\n",
    "LABEL_FIELD = \"CATEGORICAL_RAIN_SURFACE_BINARY\""
   ],
   "metadata": {
    "collapsed": false
   }
  },
  {
   "cell_type": "code",
   "execution_count": 7,
   "outputs": [],
   "source": [
    "db_connection = pymongo.MongoClient(MONGO_URL)\n",
    "db = db_connection[DB_NAME]\n",
    "noaa = db['noaa_nam']"
   ],
   "metadata": {
    "collapsed": false
   }
  },
  {
   "cell_type": "code",
   "execution_count": 8,
   "outputs": [
    {
     "name": "stdout",
     "output_type": "stream",
     "text": [
      "No. of GISJOINs: 3088\n"
     ]
    }
   ],
   "source": [
    "gis_joins = noaa.distinct('GISJOIN')\n",
    "print(f'No. of GISJOINs: {len(gis_joins)}')\n",
    "with open('./gis_joins.json', 'w') as out_file:\n",
    "    out_file.write(str(gis_joins))"
   ],
   "metadata": {
    "collapsed": false
   }
  },
  {
   "cell_type": "code",
   "execution_count": 14,
   "outputs": [
    {
     "name": "stdout",
     "output_type": "stream",
     "text": [
      "gis_join: G0100030\n",
      "[+] Queried G0100030\n"
     ]
    },
    {
     "name": "stderr",
     "output_type": "stream",
     "text": [
      "/Users/menuka/github/validation-service/venv/lib/python3.9/site-packages/sklearn/base.py:329: UserWarning: Trying to unpickle estimator DecisionTreeClassifier from version 1.0.2 when using version 1.1.2. This might lead to breaking code or invalid results. Use at your own risk. For more info please refer to:\n",
      "https://scikit-learn.org/stable/model_persistence.html#security-maintainability-limitations\n",
      "  warnings.warn(\n"
     ]
    },
    {
     "name": "stdout",
     "output_type": "stream",
     "text": [
      "[+] Scaled\n",
      "y_true: [1. 1. 1. ... 0. 0. 0.]\n",
      "y_pred_class: [0. 0. 0. ... 0. 0. 0.]\n",
      "Accuracy: 0.8598762704374724\n",
      "Percentage of 1s: 0.1401237295625276\n",
      "Percentage of 0s: 0.8598762704374724\n"
     ]
    },
    {
     "name": "stderr",
     "output_type": "stream",
     "text": [
      "/Users/menuka/github/validation-service/venv/lib/python3.9/site-packages/sklearn/base.py:450: UserWarning: X does not have valid feature names, but DecisionTreeClassifier was fitted with feature names\n",
      "  warnings.warn(\n"
     ]
    }
   ],
   "source": [
    "gis_join = gis_joins[1]\n",
    "print(f'gis_join: {gis_join}')\n",
    "query = {'GISJOIN': gis_join}\n",
    "# Build projection\n",
    "projection = {\"_id\": 0}\n",
    "for feature in FEATURE_FIELDS:\n",
    "    projection[feature] = 1\n",
    "projection[LABEL_FIELD] = 1\n",
    "\n",
    "single_raw_data = noaa.find(query, projection)\n",
    "print(f'[+] Queried {gis_join}')\n",
    "\n",
    "# Load trained model\n",
    "model = pickle.load(open('model.pkl', 'rb'))\n",
    "features_df = pd.DataFrame(list(single_raw_data))\n",
    "scaled = MinMaxScaler(feature_range=(0, 1)).fit_transform(features_df)\n",
    "print('[+] Scaled')\n",
    "features_df = pd.DataFrame(scaled, columns=features_df.columns)\n",
    "\n",
    "label_df = features_df.pop(LABEL_FIELD)\n",
    "\n",
    "#inputs_numpy = features_df.to_numpy()\n",
    "#print(f'inputs_numpy: {inputs_numpy}')\n",
    "y_true = label_df.values\n",
    "print(f'y_true: {y_true}')\n",
    "\n",
    "# Predict\n",
    "y_pred_class = model.predict(features_df.values)\n",
    "print(f'y_pred_class: {y_pred_class}')\n",
    "\n",
    "accuracy = metrics.accuracy_score(y_true, y_pred_class)\n",
    "print(f'Accuracy: {accuracy}')\n",
    "print(f'Percentage of 1s: {y_true.mean()}')\n",
    "print(f'Percentage of 0s: {1 - y_true.mean()}')"
   ],
   "metadata": {
    "collapsed": false
   }
  },
  {
   "cell_type": "code",
   "execution_count": 15,
   "outputs": [
    {
     "name": "stderr",
     "output_type": "stream",
     "text": [
      "/Users/menuka/github/validation-service/venv/lib/python3.9/site-packages/sklearn/base.py:450: UserWarning: X does not have valid feature names, but DecisionTreeClassifier was fitted with feature names\n",
      "  warnings.warn(\n",
      "/Users/menuka/github/validation-service/venv/lib/python3.9/site-packages/sklearn/base.py:450: UserWarning: X does not have valid feature names, but DecisionTreeClassifier was fitted with feature names\n",
      "  warnings.warn(\n",
      "/Users/menuka/github/validation-service/venv/lib/python3.9/site-packages/sklearn/base.py:450: UserWarning: X does not have valid feature names, but DecisionTreeClassifier was fitted with feature names\n",
      "  warnings.warn(\n",
      "/Users/menuka/github/validation-service/venv/lib/python3.9/site-packages/sklearn/base.py:450: UserWarning: X does not have valid feature names, but DecisionTreeClassifier was fitted with feature names\n",
      "  warnings.warn(\n",
      "/Users/menuka/github/validation-service/venv/lib/python3.9/site-packages/sklearn/base.py:450: UserWarning: X does not have valid feature names, but DecisionTreeClassifier was fitted with feature names\n",
      "  warnings.warn(\n",
      "/Users/menuka/github/validation-service/venv/lib/python3.9/site-packages/sklearn/base.py:450: UserWarning: X does not have valid feature names, but DecisionTreeClassifier was fitted with feature names\n",
      "  warnings.warn(\n"
     ]
    },
    {
     "name": "stdout",
     "output_type": "stream",
     "text": [
      "Precision (t = 0.1): 0.0\n",
      "Recall (t = 0.1): 0.0\n",
      "roc_auc_score (t = 0.1): 0.5\n",
      "\n",
      "Precision (t = 0.2): 0.0\n",
      "Recall (t = 0.2): 0.0\n",
      "roc_auc_score (t = 0.2): 0.5\n",
      "\n",
      "Precision (t = 0.3): 0.0\n",
      "Recall (t = 0.3): 0.0\n",
      "roc_auc_score (t = 0.3): 0.5\n",
      "\n",
      "Precision (t = 0.4): 0.0\n",
      "Recall (t = 0.4): 0.0\n",
      "roc_auc_score (t = 0.4): 0.5\n",
      "\n",
      "Precision (t = 0.5): 0.0\n",
      "Recall (t = 0.5): 0.0\n",
      "roc_auc_score (t = 0.5): 0.5\n",
      "\n",
      "Precision (t = 0.6): 0.0\n",
      "Recall (t = 0.6): 0.0\n",
      "roc_auc_score (t = 0.6): 0.5\n",
      "\n",
      "Precision (t = 0.7): 0.0\n",
      "Recall (t = 0.7): 0.0\n",
      "roc_auc_score (t = 0.7): 0.5\n",
      "\n",
      "Precision (t = 0.8): 0.0\n",
      "Recall (t = 0.8): 0.0\n",
      "roc_auc_score (t = 0.8): 0.5\n",
      "\n",
      "Precision (t = 0.9): 0.0\n",
      "Recall (t = 0.9): 0.0\n",
      "roc_auc_score (t = 0.9): 0.5\n",
      "\n"
     ]
    },
    {
     "name": "stderr",
     "output_type": "stream",
     "text": [
      "/Users/menuka/github/validation-service/venv/lib/python3.9/site-packages/sklearn/base.py:450: UserWarning: X does not have valid feature names, but DecisionTreeClassifier was fitted with feature names\n",
      "  warnings.warn(\n",
      "/Users/menuka/github/validation-service/venv/lib/python3.9/site-packages/sklearn/base.py:450: UserWarning: X does not have valid feature names, but DecisionTreeClassifier was fitted with feature names\n",
      "  warnings.warn(\n",
      "/Users/menuka/github/validation-service/venv/lib/python3.9/site-packages/sklearn/base.py:450: UserWarning: X does not have valid feature names, but DecisionTreeClassifier was fitted with feature names\n",
      "  warnings.warn(\n"
     ]
    }
   ],
   "source": [
    "thresholds = [0.1, 0.2, 0.3, 0.4, 0.5, 0.6, 0.7, 0.8, 0.9]\n",
    "inputs_numpy = features_df.to_numpy()\n",
    "for t in thresholds:\n",
    "    # y_pred_prob = (model.predict_proba(features_df.values)[:, 1] >= t).astype(int)\n",
    "    y_pred_prob = (model.predict_proba(inputs_numpy) >= t).astype(int)\n",
    "    # Calculate Precision\n",
    "    precision = metrics.precision_score(y_true, y_pred_class, zero_division=0)\n",
    "    print(f\"Precision (t = {t}): {precision}\")\n",
    "\n",
    "    # Calculate Recall\n",
    "    recall = metrics.recall_score(y_true, y_pred_class, zero_division=0)\n",
    "    print(f\"Recall (t = {t}): {recall}\")\n",
    "\n",
    "    # ROC Curves and Area Under the Curve (AUC)\n",
    "    fpr, tpr, thresholds = metrics.roc_curve(y_true, y_pred_prob)\n",
    "    roc_auc_score = metrics.roc_auc_score(y_true, y_pred_prob)\n",
    "    print(f\"roc_auc_score (t = {t}): {roc_auc_score}\")\n",
    "    print()"
   ],
   "metadata": {
    "collapsed": false
   }
  }
 ],
 "metadata": {
  "kernelspec": {
   "display_name": "Python 3",
   "language": "python",
   "name": "python3"
  },
  "language_info": {
   "codemirror_mode": {
    "name": "ipython",
    "version": 2
   },
   "file_extension": ".py",
   "mimetype": "text/x-python",
   "name": "python",
   "nbconvert_exporter": "python",
   "pygments_lexer": "ipython2",
   "version": "2.7.6"
  }
 },
 "nbformat": 4,
 "nbformat_minor": 0
}
